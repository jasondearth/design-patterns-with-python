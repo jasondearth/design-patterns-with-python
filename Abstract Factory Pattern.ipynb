{
 "cells": [
  {
   "cell_type": "markdown",
   "metadata": {},
   "source": [
    "# Abstract Factory Pattern"
   ]
  },
  {
   "cell_type": "code",
   "execution_count": 2,
   "metadata": {
    "collapsed": false
   },
   "outputs": [],
   "source": [
    "import abc\n",
    "\n",
    "# create an interface for Shapes\n",
    "class Shape(metaclass=abc.ABCMeta):\n",
    "    @abc.abstractmethod\n",
    "    def draw(self):\n",
    "        pass\n",
    "\n",
    "# create an interface for Colors\n",
    "class Color(metaclass=abc.ABCMeta):\n",
    "    @abc.abstractmethod\n",
    "    def fill(self):\n",
    "        pass"
   ]
  },
  {
   "cell_type": "code",
   "execution_count": 3,
   "metadata": {
    "collapsed": true
   },
   "outputs": [],
   "source": [
    "# create an abstract class to get factories for Color and Shape objects\n",
    "class AbstractFactory(metaclass=abc.ABCMeta):\n",
    "    @abc.abstractmethod\n",
    "    def get_color(self):\n",
    "        pass\n",
    "\n",
    "    @abc.abstractmethod\n",
    "    def get_shape(self):\n",
    "        pass\n",
    "\n",
    "\n",
    "class Rectangle(Shape):\n",
    "    def draw(self):\n",
    "        print(\"Inside Rectangle::draw() method.\")\n",
    "\n",
    "class Square(Shape):\n",
    "    def draw(self):\n",
    "        print(\"Inside Square::draw() method.\")\n",
    "\n",
    "class Circle(Shape):\n",
    "    def draw(self):\n",
    "        print(\"Inside Circle::draw() method.\")\n",
    "\n",
    "\n",
    "class Red(Color):\n",
    "    def fill(self):\n",
    "        print(\"Inside Red::fill() method.\")\n",
    "\n",
    "class Green(Color):\n",
    "    def fill(self):\n",
    "        print(\"Inside Green::fill() method.\")\n",
    "\n",
    "class Blue(Color):\n",
    "    def fill(self):\n",
    "        print(\"Inside Blue::fill() method.\")"
   ]
  },
  {
   "cell_type": "code",
   "execution_count": 4,
   "metadata": {
    "collapsed": true
   },
   "outputs": [],
   "source": [
    "# create Factory classes extending AbstractFactory \n",
    "# to generate object of concrete class based on given information.\n",
    "class ShapeFactory(AbstractFactory):\n",
    "    def get_shape(self, shape_type):\n",
    "        if shape_type == None:\n",
    "            return None\n",
    "\n",
    "        if shape_type == \"CIRCLE\":\n",
    "            return Circle()\n",
    "        elif shape_type == \"RECTANGLE\":\n",
    "            return Rectangle()\n",
    "        elif shape_type == \"SQUARE\":\n",
    "            return Square()\n",
    "\n",
    "        return None\n",
    "\n",
    "    def get_color(self):\n",
    "        return None\n",
    "\n",
    "\n",
    "class ColorFactory(AbstractFactory):\n",
    "    def get_color(self, color_type):\n",
    "        if color_type == None:\n",
    "            return None\n",
    "\n",
    "        if color_type == \"RED\":\n",
    "            return Red()\n",
    "        elif color_type == \"GREEN\":\n",
    "            return Green()\n",
    "        elif color_type == \"BLUE\":\n",
    "            return Blue()\n",
    "\n",
    "        return None\n",
    "\n",
    "    def get_shape(self):\n",
    "        return None"
   ]
  },
  {
   "cell_type": "code",
   "execution_count": 5,
   "metadata": {
    "collapsed": true
   },
   "outputs": [],
   "source": [
    "# create a Factory generator/producer class \n",
    "# to get factories by passing an information such as Shape or Color\n",
    "\n",
    "class FactoryProducer:\n",
    "    @staticmethod\n",
    "    def get_factory(choice):\n",
    "        if choice == \"SHAPE\":\n",
    "            return ShapeFactory()\n",
    "        elif choice == \"COLOR\":\n",
    "            return ColorFactory()\n",
    "        return None"
   ]
  },
  {
   "cell_type": "code",
   "execution_count": 6,
   "metadata": {
    "collapsed": false
   },
   "outputs": [
    {
     "name": "stdout",
     "output_type": "stream",
     "text": [
      "Inside Circle::draw() method.\n",
      "Inside Rectangle::draw() method.\n",
      "Inside Square::draw() method.\n",
      "Inside Red::fill() method.\n",
      "Inside Green::fill() method.\n",
      "Inside Blue::fill() method.\n"
     ]
    }
   ],
   "source": [
    "if __name__ == '__main__':\n",
    "    shape_factory = FactoryProducer.get_factory(\"SHAPE\")\n",
    "\n",
    "    shape1 = shape_factory.get_shape(\"CIRCLE\");\n",
    "    shape1.draw()\n",
    "\n",
    "    shape2 = shape_factory.get_shape(\"RECTANGLE\");\n",
    "    shape2.draw()\n",
    "\n",
    "    shape3 = shape_factory.get_shape(\"SQUARE\");\n",
    "    shape3.draw()\n",
    "\n",
    "    color_factory = FactoryProducer.get_factory(\"COLOR\");\n",
    "\n",
    "    color1 = color_factory.get_color(\"RED\");\n",
    "    color1.fill()\n",
    "\n",
    "    color2 = color_factory.get_color(\"GREEN\");\n",
    "    color2.fill()\n",
    "\n",
    "    color3 = color_factory.get_color(\"BLUE\");\n",
    "    color3.fill()"
   ]
  },
  {
   "cell_type": "code",
   "execution_count": null,
   "metadata": {
    "collapsed": true
   },
   "outputs": [],
   "source": []
  }
 ],
 "metadata": {
  "anaconda-cloud": {},
  "kernelspec": {
   "display_name": "Python [conda root]",
   "language": "python",
   "name": "conda-root-py"
  },
  "language_info": {
   "codemirror_mode": {
    "name": "ipython",
    "version": 3
   },
   "file_extension": ".py",
   "mimetype": "text/x-python",
   "name": "python",
   "nbconvert_exporter": "python",
   "pygments_lexer": "ipython3",
   "version": "3.5.2"
  }
 },
 "nbformat": 4,
 "nbformat_minor": 1
}
