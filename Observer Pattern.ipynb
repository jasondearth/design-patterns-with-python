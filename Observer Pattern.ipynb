{
 "cells": [
  {
   "cell_type": "markdown",
   "metadata": {},
   "source": [
    "# Observer Pattern"
   ]
  },
  {
   "cell_type": "code",
   "execution_count": 7,
   "metadata": {
    "collapsed": true
   },
   "outputs": [],
   "source": [
    "class Subject(object):\n",
    "  def __init__(self):\n",
    "    self._observers = []\n",
    "\n",
    "  def attach(self, observer):\n",
    "    if not observer in self._observers:\n",
    "      self._observers.append(observer)\n",
    "\n",
    "  def detach(self, observer):\n",
    "    try:\n",
    "      self._observers.remove(observer)\n",
    "    except ValueError:\n",
    "      pass\n",
    "\n",
    "  def notify(self, modifier=None):\n",
    "    for observer in self._observers:\n",
    "      if modifier != observer:\n",
    "        observer.update(self)"
   ]
  },
  {
   "cell_type": "code",
   "execution_count": 9,
   "metadata": {
    "collapsed": false
   },
   "outputs": [],
   "source": [
    "# Example usage\n",
    "class Data(Subject):\n",
    "  def __init__(self, name=''):\n",
    "    super(Data, self).__init__()\n",
    "    self.name = name\n",
    "    self._data = 0\n",
    "\n",
    "  @property\n",
    "  def data(self):\n",
    "    return self._data\n",
    "\n",
    "  @data.setter\n",
    "  def data(self, value):\n",
    "    self._data = value\n",
    "    self.notify()\n",
    "\n",
    "\n",
    "class HexViewer(object):\n",
    "  def update(self, subject):\n",
    "    print('HexViewer: Subject %s has data 0x%x' % (subject.name, subject.getData()))\n",
    "\n",
    "\n",
    "class DecimalViewer:\n",
    "  def update(self, subject):\n",
    "    print('DecimalViewer: Subject %s has data %d' % (subject.name, subject.getData()))"
   ]
  },
  {
   "cell_type": "code",
   "execution_count": 5,
   "metadata": {
    "collapsed": false
   },
   "outputs": [
    {
     "name": "stdout",
     "output_type": "stream",
     "text": [
      "Setting Data 1 = 10\n",
      "DecimalViewer: Subject Data 1 has data 10\n",
      "HexViewer: Subject Data 1 has data 0xa\n",
      "Setting Data 2 = 15\n",
      "HexViewer: Subject Data 2 has data 0xf\n",
      "DecimalViewer: Subject Data 2 has data 15\n",
      "Setting Data 1 = 3\n",
      "DecimalViewer: Subject Data 1 has data 3\n",
      "HexViewer: Subject Data 1 has data 0x3\n",
      "Setting Data 2 = 5\n",
      "HexViewer: Subject Data 2 has data 0x5\n",
      "DecimalViewer: Subject Data 2 has data 5\n",
      "Detach HexViewer from data1 and data2.\n",
      "Setting Data 1 = 10\n",
      "DecimalViewer: Subject Data 1 has data 10\n",
      "Setting Data 2 = 15\n",
      "DecimalViewer: Subject Data 2 has data 15\n"
     ]
    }
   ],
   "source": [
    "# Example usage...\n",
    "def main():\n",
    "    data1 = Data('Data 1')\n",
    "    data2 = Data('Data 2')\n",
    "    view1 = DecimalViewer()\n",
    "    view2 = HexViewer()\n",
    "    data1.attach(view1)\n",
    "    data1.attach(view2)\n",
    "    data2.attach(view2)\n",
    "    data2.attach(view1)\n",
    "\n",
    "    print(\"Setting Data 1 = 10\")\n",
    "    data1.setData(10)\n",
    "    print(\"Setting Data 2 = 15\")\n",
    "    data2.setData(15)\n",
    "    print(\"Setting Data 1 = 3\")\n",
    "    data1.setData(3)\n",
    "    print(\"Setting Data 2 = 5\")\n",
    "    data2.setData(5)\n",
    "    print(\"Detach HexViewer from data1 and data2.\")\n",
    "    data1.detach(view2)\n",
    "    data2.detach(view2)\n",
    "    print(\"Setting Data 1 = 10\")\n",
    "    data1.setData(10)\n",
    "    print(\"Setting Data 2 = 15\")\n",
    "    data2.setData(15)\n",
    "\n",
    "if __name__ == '__main__':\n",
    "    main()"
   ]
  },
  {
   "cell_type": "code",
   "execution_count": null,
   "metadata": {
    "collapsed": true
   },
   "outputs": [],
   "source": []
  }
 ],
 "metadata": {
  "anaconda-cloud": {},
  "kernelspec": {
   "display_name": "Python [conda root]",
   "language": "python",
   "name": "conda-root-py"
  },
  "language_info": {
   "codemirror_mode": {
    "name": "ipython",
    "version": 3
   },
   "file_extension": ".py",
   "mimetype": "text/x-python",
   "name": "python",
   "nbconvert_exporter": "python",
   "pygments_lexer": "ipython3",
   "version": "3.5.2"
  }
 },
 "nbformat": 4,
 "nbformat_minor": 1
}
