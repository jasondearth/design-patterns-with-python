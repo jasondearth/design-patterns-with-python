{
 "cells": [
  {
   "cell_type": "markdown",
   "metadata": {},
   "source": [
    "# Strategy Pattern"
   ]
  },
  {
   "cell_type": "code",
   "execution_count": 1,
   "metadata": {
    "collapsed": false
   },
   "outputs": [
    {
     "name": "stdout",
     "output_type": "stream",
     "text": [
      "Default Strategy is used!\n",
      "Strategy One is used to execute method 1\n",
      "Strategy Two is used to execute method 2\n"
     ]
    }
   ],
   "source": [
    "import types #Import the types module\n",
    " \n",
    "class Strategy:\n",
    "    \"\"\"The Strategy Pattern class\"\"\"\n",
    " \n",
    "    def __init__(self, function=None):\n",
    "        self.name = \"Default Strategy\"\n",
    " \n",
    "        #If a reference to a function is provided, replace the execute() method with the given function\n",
    "        if function:\n",
    "        \tself.execute = types.MethodType(function, self)\n",
    " \n",
    "    def execute(self): #This gets replaced by another version if another strategy is provided.\n",
    "        \"\"\"The defaut method that prints the name of the strategy being used\"\"\"\n",
    "        print(\"{} is used!\".format(self.name))\n",
    " \n",
    "# Replacement method 1\n",
    "def strategy_one(self):\n",
    "    print(\"{} is used to execute method 1\".format(self.name))\n",
    " \n",
    "# Replacement method 2    \n",
    "def strategy_two(self):\n",
    "\tprint(\"{} is used to execute method 2\".format(self.name))\n",
    " \n",
    "# Let's create our default strategy\n",
    "s0 = Strategy()\n",
    "#Let's execute our default strategy\n",
    "s0.execute()\n",
    " \n",
    "#Let's create the first varition of our default strategy by providing a new behavior\n",
    "s1 = Strategy(strategy_one)\n",
    "#Let's set its name\n",
    "s1.name = \"Strategy One\"\n",
    "#Let's execute the strategy\n",
    "s1.execute()\n",
    " \n",
    "s2 = Strategy(strategy_two)\n",
    "s2.name = \"Strategy Two\"\n",
    "s2.execute()"
   ]
  },
  {
   "cell_type": "code",
   "execution_count": null,
   "metadata": {
    "collapsed": true
   },
   "outputs": [],
   "source": []
  }
 ],
 "metadata": {
  "anaconda-cloud": {},
  "kernelspec": {
   "display_name": "Python [conda root]",
   "language": "python",
   "name": "conda-root-py"
  },
  "language_info": {
   "codemirror_mode": {
    "name": "ipython",
    "version": 3
   },
   "file_extension": ".py",
   "mimetype": "text/x-python",
   "name": "python",
   "nbconvert_exporter": "python",
   "pygments_lexer": "ipython3",
   "version": "3.5.2"
  }
 },
 "nbformat": 4,
 "nbformat_minor": 1
}
